{
 "cells": [
  {
   "cell_type": "code",
   "execution_count": 1,
   "id": "bd82fb8e",
   "metadata": {
    "tags": []
   },
   "outputs": [],
   "source": [
    "from selenium.webdriver.firefox.options import Options\n",
    "from selenium.webdriver import Firefox, Chrome\n",
    "from selenium.webdriver.chrome.service import Service as ChromeService\n",
    "from selenium.webdriver.firefox.service import Service as FirefoxService\n",
    "from selenium.common.exceptions import InvalidArgumentException\n",
    "from selenium.webdriver.common.by import By\n",
    "\n",
    "import os\n",
    "\n",
    "def get_browser():\n",
    "  options = Options() \n",
    "  options.binary_location = r'C:\\Program Files\\Mozilla Firefox\\firefox.exe'\n",
    "  browser = None\n",
    "  service = None\n",
    "  if os.path.exists('./geckodriver.exe'):\n",
    "      service = FirefoxService('./geckodriver.exe')\n",
    "      browser = Firefox(service=service, options=options)\n",
    "      \n",
    "  elif os.path.exists('./geckodriver'):\n",
    "      service = FirefoxService('./geckodriver')\n",
    "      browser = Firefox(service=service, options=options)\n",
    "      \n",
    "  elif os.path.exists('./chromedriver.exe'):\n",
    "      service = ChromeService('./chromedriver.exe')\n",
    "      browser = Chrome(service=service)\n",
    "      \n",
    "  elif os.path.exists('./chromedriver'):\n",
    "      service = ChromeService('./chromedriver')\n",
    "      browser = Chrome(service=service)\n",
    "  \n",
    "  return browser"
   ]
  },
  {
   "cell_type": "code",
   "execution_count": 2,
   "id": "64aefd47-3f59-470c-8404-f59b586f19d3",
   "metadata": {
    "tags": []
   },
   "outputs": [],
   "source": [
    "def find_btn(buttons, country):\n",
    "    for b in buttons:\n",
    "        if country in b.text:\n",
    "            return b\n",
    "    return None"
   ]
  },
  {
   "cell_type": "code",
   "execution_count": 3,
   "id": "7fda04ba",
   "metadata": {
    "tags": []
   },
   "outputs": [],
   "source": [
    "def get_html(position):\n",
    "    import time\n",
    "    service = ChromeService(r\"..\\drivers\\ChromeDriver.exe\")\n",
    "    browser = Chrome(service=service)\n",
    "    \n",
    "    try:\n",
    "        browser.get(\"https://nofluffjobs.com/\")\n",
    "        browser.implicitly_wait(5)\n",
    "        \n",
    "        \n",
    "        accept_btn = browser.find_elements(\"css selector\", \"#onetrust-accept-btn-handler\")\n",
    "        if accept_btn:\n",
    "            accept_btn[0].click()\n",
    "            time.sleep(2)\n",
    "        \n",
    "        #WARTO DOPYTAĆ\n",
    "        country_btns = browser.find_elements(\"css selector\", \"button.region-control\")\n",
    "        poland_btn = find_btn(country_btns, \"Poland\")\n",
    "        if poland_btn:\n",
    "            poland_btn.click()\n",
    "            time.sleep(2)\n",
    "            \n",
    "        country_confirm_btn = browser.find_elements(\"css selector\", \"div.info-hard__region-picker button.tw-btn-primary\")\n",
    "        if country_confirm_btn:\n",
    "            country_confirm_btn[0].click()\n",
    "            time.sleep(2)\n",
    "        \n",
    "        #WARTO DOPYTAĆ\n",
    "        position_insert_btn = browser.find_elements(\"css selector\", \"input[aria-label='main search input']\")\n",
    "        if position_insert_btn:\n",
    "            position_insert_btn[0].click()\n",
    "            time.sleep(3)     \n",
    "            search_btn = browser.find_elements(\"css selector\", \"div.main-search-button > button\")\n",
    "            if search_btn:\n",
    "                position_insert_btn[0].send_keys(position)\n",
    "                time.sleep(2)\n",
    "                search_btn[0].click()\n",
    "                time.sleep(3)\n",
    "                return browser.page_source\n",
    "            \n",
    "\n",
    "        return \"no data\"\n",
    "    finally:\n",
    "        browser.quit()\n",
    "                                           \n"
   ]
  },
  {
   "cell_type": "code",
   "execution_count": 4,
   "id": "e8783078",
   "metadata": {
    "tags": []
   },
   "outputs": [
    {
     "name": "stdout",
     "output_type": "stream",
     "text": [
      "Data for position 'data analyst' successfully downloaded and saved to a file\n",
      "Data for position 'data scientist' successfully downloaded and saved to a file\n",
      "Data for position 'data engineer' successfully downloaded and saved to a file\n"
     ]
    }
   ],
   "source": [
    "positions = (\"data analyst\", \"data scientist\", \"data engineer\")\n",
    "for position in positions:\n",
    "    page = get_html(position)\n",
    "    if page == \"no data\":\n",
    "        print(f\"Warning - no data for the position '{position}'\")\n",
    "    else:\n",
    "        with open(rf\"..\\data\\raw\\{position}.html\", \"w\", encoding=\"UTF-8\") as f:\n",
    "            f.write(page)\n",
    "        print(f\"Data for position '{position}' successfully downloaded and saved to a file\")"
   ]
  },
  {
   "cell_type": "code",
   "execution_count": null,
   "id": "e7120339",
   "metadata": {},
   "outputs": [],
   "source": []
  }
 ],
 "metadata": {
  "kernelspec": {
   "display_name": "Python 3 (ipykernel)",
   "language": "python",
   "name": "python3"
  },
  "language_info": {
   "codemirror_mode": {
    "name": "ipython",
    "version": 3
   },
   "file_extension": ".py",
   "mimetype": "text/x-python",
   "name": "python",
   "nbconvert_exporter": "python",
   "pygments_lexer": "ipython3",
   "version": "3.11.5"
  }
 },
 "nbformat": 4,
 "nbformat_minor": 5
}
