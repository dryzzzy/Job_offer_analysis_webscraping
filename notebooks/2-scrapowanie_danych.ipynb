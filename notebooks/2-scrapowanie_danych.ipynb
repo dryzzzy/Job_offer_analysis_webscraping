{
 "cells": [
  {
   "cell_type": "code",
   "execution_count": 1,
   "id": "27cc7c7a-b379-4a87-848b-281a6c878137",
   "metadata": {},
   "outputs": [],
   "source": [
    "#         salary_scrape = browser.find_elements(\"css selector\", \"\")\n",
    "#         result = []\n",
    "#         for salary in salary_scrape:\n",
    "#             url = l.get_attribute(\"href\")\n",
    "#             name = l.find_element(\"css selector\", \"span:nth-child(3)\").text\n",
    "#             result.append({\"name\": name, \"link\": url})"
   ]
  },
  {
   "cell_type": "code",
   "execution_count": 2,
   "id": "c3c9d174",
   "metadata": {
    "tags": []
   },
   "outputs": [],
   "source": [
    "from bs4 import BeautifulSoup\n",
    "import glob\n",
    "import pandas as pd\n",
    "from datetime import datetime\n",
    "import re"
   ]
  },
  {
   "cell_type": "code",
   "execution_count": 3,
   "id": "6d1e6b0a",
   "metadata": {},
   "outputs": [],
   "source": [
    "def name(offer_panel):\n",
    "    name_elements = offer_panel.select(\"h3.posting-title__position\")\n",
    "    if name_elements:\n",
    "        return name_elements[0].text.strip()\n",
    "    else:\n",
    "        return \"\""
   ]
  },
  {
   "cell_type": "code",
   "execution_count": 4,
   "id": "59e13b7e",
   "metadata": {},
   "outputs": [],
   "source": [
    "def company(offer_panel):\n",
    "    company_elements = offer_panel.select(\"h4.company-name\")\n",
    "    if company_elements:\n",
    "        return company_elements[0].text.strip()\n",
    "    else:\n",
    "        return \"\""
   ]
  },
  {
   "cell_type": "code",
   "execution_count": 5,
   "id": "aa47b484",
   "metadata": {},
   "outputs": [],
   "source": [
    "def technology(offer_panel):\n",
    "    technology_element = offer_panel.select(\"span[data-cy='category name on the job offer listing']\")\n",
    "    return \" \".join([t.text.strip() for t in technology_element])"
   ]
  },
  {
   "cell_type": "code",
   "execution_count": 6,
   "id": "cec17a8a-7e6a-4e67-b0d8-976b6198a450",
   "metadata": {
    "tags": []
   },
   "outputs": [],
   "source": [
    "def location(offer_panel):\n",
    "    city = \"\"\n",
    "    country = \"\"\n",
    "    loc_elements = offer_panel.select(\"nfj-posting-item-city\")\n",
    "    if loc_elements:\n",
    "        loc = loc_elements[0].text.strip()\n",
    "        if \"ZDALN\" in loc.upper():\n",
    "            city = \"ZDALNA\"\n",
    "            country = \"N/A\"\n",
    "        else:\n",
    "            city_country = loc.split(\",\")\n",
    "            if len(city_country) > 1:\n",
    "                city = city_country[0].strip()\n",
    "                country = city_country[1].strip()\n",
    "            else:\n",
    "                city_span = loc_elements[0].select(\"span\")\n",
    "                city = city_span[0].text.strip()\n",
    "                country = \"PL\"\n",
    " \n",
    "    return {\n",
    "        \"city\": city,\n",
    "        \"country\": country,\n",
    "    }"
   ]
  },
  {
   "cell_type": "code",
   "execution_count": 7,
   "id": "509d9f7b-5180-4486-a11b-249436379379",
   "metadata": {},
   "outputs": [],
   "source": [
    "def salary(offer_panel):\n",
    "    s_low = 0.0\n",
    "    s_high = 0.0\n",
    "    s_curr = \"PLN\"\n",
    "    salary_elements = offer_panel.select(\"nfj-posting-item-salary\")\n",
    "    if salary_elements:\n",
    "        sal = salary_elements[0].text.strip().replace(\"–\", \"-\").replace(\"\\xa0\", \"\")\n",
    "        m = re.match(r\"\\s*([\\d\\s]+)\\s*-\\s*([\\d\\s]+)\\s*(\\w+)\", sal)\n",
    "        if m:\n",
    "            try:\n",
    "                s_low = float(m.group(1).strip())\n",
    "                s_high = float(m.group(2).strip())\n",
    "                s_curr = m.group(3).strip()\n",
    "            except:\n",
    "                pass\n",
    "    return {\n",
    "        \"low\": s_low,\n",
    "        \"high\": s_high,\n",
    "        \"curr\": s_curr,\n",
    "    }"
   ]
  },
  {
   "cell_type": "code",
   "execution_count": 8,
   "id": "6d149942",
   "metadata": {},
   "outputs": [],
   "source": [
    "def scrape_single_offer(offer_panel, job):\n",
    "    return {\n",
    "        \"name\": name(offer_panel),\n",
    "        \"company\": company(offer_panel),\n",
    "        \"technology\": technology(offer_panel),\n",
    "        \"job\": job,\n",
    "        \"location\": location(offer_panel),\n",
    "        \"salary\": salary(offer_panel),\n",
    "    }"
   ]
  },
  {
   "cell_type": "code",
   "execution_count": 9,
   "id": "eb19f4ec",
   "metadata": {},
   "outputs": [],
   "source": [
    "def scrape_offers(html_file_path: str):\n",
    "    job = html_file_path.replace(\"..\\\\data\\\\raw\\\\\", \"\").replace(\".html\", \"\")\n",
    "    with open(html_file_path, \"r\", encoding = \"UTF-8\") as f:\n",
    "        soup = BeautifulSoup(f.read(), \"html.parser\")\n",
    "\n",
    "    offers = []\n",
    "    offer_panels = soup.select(\"a.posting-list-item\")\n",
    "    print(f\"{len(offer_panels)} job offers found\")\n",
    "    for offer_panel in offer_panels:\n",
    "        offer_data = scrape_single_offer(offer_panel, job)\n",
    "        if offer_data:\n",
    "            offers.append(offer_data)\n",
    "    print(f\"{len(offers)} job offers decoded\")\n",
    "    return offers"
   ]
  },
  {
   "cell_type": "code",
   "execution_count": 10,
   "id": "65263f80-36d7-4119-8728-8d01e7631028",
   "metadata": {
    "tags": []
   },
   "outputs": [
    {
     "name": "stdout",
     "output_type": "stream",
     "text": [
      "..\\data\\raw\\data analyst.html\n",
      "20 job offers found\n",
      "20 job offers decoded\n",
      "\n",
      "..\\data\\raw\\data engineer.html\n",
      "20 job offers found\n",
      "20 job offers decoded\n",
      "\n",
      "..\\data\\raw\\data scientist.html\n",
      "20 job offers found\n",
      "20 job offers decoded\n",
      "\n",
      "Data frame saved to ..\\data\\interim\\job_offers_2024_08_05.csv\n"
     ]
    }
   ],
   "source": [
    "offers = []\n",
    "for html_file in glob.glob(r\"..\\data\\raw\\*.html\"):\n",
    "    print(f\"{html_file}\")\n",
    "    offers += scrape_offers(html_file)\n",
    "    print(\"\")\n",
    "\n",
    "df = pd.json_normalize(offers, sep=\"_\")\n",
    "date_part = datetime.today().strftime(\"%Y_%m_%d\")\n",
    "file_path = rf\"..\\data\\interim\\job_offers_{date_part}.csv\"\n",
    "df.to_csv(file_path, sep=\";\", encoding = \"UTF-8\", index=False)\n",
    "print(f\"Data frame saved to {file_path}\")"
   ]
  },
  {
   "cell_type": "code",
   "execution_count": null,
   "id": "03d87c9e-e4e9-413f-89ff-90e56f286ae4",
   "metadata": {},
   "outputs": [],
   "source": []
  }
 ],
 "metadata": {
  "kernelspec": {
   "display_name": "Python 3 (ipykernel)",
   "language": "python",
   "name": "python3"
  },
  "language_info": {
   "codemirror_mode": {
    "name": "ipython",
    "version": 3
   },
   "file_extension": ".py",
   "mimetype": "text/x-python",
   "name": "python",
   "nbconvert_exporter": "python",
   "pygments_lexer": "ipython3",
   "version": "3.11.5"
  }
 },
 "nbformat": 4,
 "nbformat_minor": 5
}
